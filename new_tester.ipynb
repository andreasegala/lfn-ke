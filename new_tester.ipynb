{
 "cells": [
  {
   "cell_type": "code",
   "outputs": [],
   "source": [
    "import commons.parse\n",
    "import commons.graph\n",
    "import networkx as nx\n",
    "import warnings\n",
    "import nltk"
   ],
   "metadata": {
    "collapsed": false,
    "ExecuteTime": {
     "end_time": "2024-01-08T09:01:11.124018200Z",
     "start_time": "2024-01-08T09:01:10.085759800Z"
    }
   },
   "id": "2717ad611e93631e",
   "execution_count": 1
  },
  {
   "cell_type": "code",
   "outputs": [],
   "source": [
    "warnings.filterwarnings(\"ignore\")"
   ],
   "metadata": {
    "collapsed": false,
    "ExecuteTime": {
     "end_time": "2024-01-08T09:01:11.996726600Z",
     "start_time": "2024-01-08T09:01:11.993409500Z"
    }
   },
   "id": "b54ef15c59bc8e7b",
   "execution_count": 2
  },
  {
   "cell_type": "code",
   "outputs": [],
   "source": [
    "commons.parse.update_allowed_forbidden_files()"
   ],
   "metadata": {
    "collapsed": false
   },
   "id": "e409e97a0dab3e7c",
   "execution_count": null
  },
  {
   "cell_type": "code",
   "outputs": [],
   "source": [
    "parsed_articles = commons.parse.parse_and_sample(15)\n",
    "\n",
    "print(\"Sampling and parsing complete \\n\")\n",
    "\n",
    "#creating a GraphMaker object that encapsulates the chosen stemmer and stopwords list\n",
    "\n",
    "gm = commons.graph.GraphMaker('resources/longStopwords.txt','SNO')\n",
    "\n",
    "# setting up a proper nx.Graph() as Article's co-occurrence graph \n",
    "\n",
    "for i in range(0, len(parsed_articles)):\n",
    "    print(\"I am now building the graph for article at index \"+ str(i))\n",
    "    parsed_articles[i].graph = gm.buildGraph(parsed_articles[i].abstract)#, parsed_articles[i].filename)\n",
    "\n",
    "\n",
    "#If one wanted to print a graph, given an article:\n",
    "print(parsed_articles[5].filename)\n",
    "print(parsed_articles[5].abstract)\n",
    "print(parsed_articles[5].graph.nodes)\n",
    "commons.graph.printGraph(parsed_articles[5].graph)"
   ],
   "metadata": {
    "collapsed": false
   },
   "id": "7152f129925210c1",
   "execution_count": null
  },
  {
   "cell_type": "code",
   "outputs": [],
   "source": [
    "for a in parsed_articles:\n",
    "\n",
    "    myDictionary = commons.graph.approximateClosenessCentrality(a.graph, 10)\n",
    "    nx.set_node_attributes(a.graph, myDictionary, name = 'apprCC')\n",
    "\n",
    "    nx.set_node_attributes(a.graph, commons.graph.localPageRankApprox(a.graph), name = 'apprPR')\n",
    "\n",
    "    nx.set_node_attributes(a.graph, commons.graph.improvedEstimateLCC(a.graph,  0.7), name='apprLCC')"
   ],
   "metadata": {
    "collapsed": false
   },
   "id": "cd0bdf35324d4cbb",
   "execution_count": null
  },
  {
   "cell_type": "code",
   "outputs": [],
   "source": [
    "print(parsed_articles[4].abstract)"
   ],
   "metadata": {
    "collapsed": false
   },
   "id": "e3a85bce0675d6c3",
   "execution_count": null
  },
  {
   "cell_type": "code",
   "outputs": [],
   "source": [
    "gm = commons.graph.GraphMaker('resources/longStopwords.txt','SNO')\n",
    "\n",
    "ggraph = gm.buildGraph(\"This data article presents the experimental evidences of the effect of TiO2-fluorine doped tin oxide interface annealing and Ni(OH)2 cocatalysts on the photoelectrochemical  structural  morphological and optical properties of Ni(OH)2/CdS/ZnIn2S4/TiO2 heterojunction. The Raman spectroscopy exhibits the sharp features of the rutile phase of TiO2 and in agreement with the X-ray diffraction data. The band gap energy of the 500 °C sample was found to be 3.12 eV  further it was increased to 3.20  3.22 eV for samples annealed at 600 and 700 °C respectively. The decrease in the band gap energy at 500 °C related to the oxygen vacancies and was analysed by photoluminescence spectroscopy analysis. The synthesis  characterization methods and other experimental details of TiO2 based heterostructure are also provided. The presence of CdS and ZnIn2S4 coating on surface of TiO2 electrodes providing a high surface area  extended visible absorption and helps to improve the change separation. This data article contains data related to the research article entitled “Highly efficient and stable 3D Ni(OH)2/CdS/ZnIn2S4/TiO2 heterojunction under solar light: Effect of an improved TiO2/FTO interface and cocatalyst” (Mahadik et al.  2017) [1]\")\n",
    "\n",
    "commons.graph.printGraph(ggraph)"
   ],
   "metadata": {
    "collapsed": false
   },
   "id": "cd2c3038d6aab999",
   "execution_count": null
  },
  {
   "cell_type": "code",
   "outputs": [],
   "source": [
    "myDictionary= nx.pagerank(ggraph,0.4)\n",
    "print(myDictionary)"
   ],
   "metadata": {
    "collapsed": false
   },
   "id": "ca0507c75ba38d70",
   "execution_count": null
  },
  {
   "cell_type": "code",
   "outputs": [
    {
     "data": {
      "text/plain": "'The South African genus Gymnodiscus Less. (Senecioneae: Othonninae) is distinguished from other genera in subtribe Othonninae by its annual habit and lack of pappus in the disc florets. We recognise two species of Gymnodiscus differing in leaf morphology number of involucral bracts and florets shape of the ray florets and cypsela vestiture. A comprehensive taxonomic treatment is presented including descriptions complete nomenclature and typification illustrations and geographical distribution. Gymnodiscus orbicularifolius Sch. Bip. is treated as a synonym of Gymnodiscus capillaris L.f.'"
     },
     "execution_count": 11,
     "metadata": {},
     "output_type": "execute_result"
    }
   ],
   "source": [
    "# pagerank\n",
    "gm = commons.graph.GraphMaker('resources/longStopwords.txt','SNO')\n",
    "articles = commons.parse.parse_and_sample(15, gm)\n",
    "an_article = articles[5]\n",
    "article_graph = gm.buildGraph(an_article.abstract)\n",
    "articles[11].abstract"
   ],
   "metadata": {
    "collapsed": false,
    "ExecuteTime": {
     "end_time": "2024-01-08T09:03:24.777904Z",
     "start_time": "2024-01-08T09:03:23.790899900Z"
    }
   },
   "id": "ac06a09520388957",
   "execution_count": 11
  },
  {
   "cell_type": "code",
   "outputs": [
    {
     "data": {
      "text/plain": "['new', 'synonym', 'nomenclatur', 'othonna', 'southern', 'africa', 'taxonomi']"
     },
     "execution_count": 9,
     "metadata": {},
     "output_type": "execute_result"
    }
   ],
   "source": [
    "keywords = articles[11].kw\n",
    "keywords"
   ],
   "metadata": {
    "collapsed": false,
    "ExecuteTime": {
     "end_time": "2024-01-08T09:01:44.017760700Z",
     "start_time": "2024-01-08T09:01:44.006023900Z"
    }
   },
   "id": "bd454cda908bf982",
   "execution_count": 9
  }
 ],
 "metadata": {
  "kernelspec": {
   "name": "lfn",
   "language": "python",
   "display_name": "lfn"
  },
  "language_info": {
   "codemirror_mode": {
    "name": "ipython",
    "version": 2
   },
   "file_extension": ".py",
   "mimetype": "text/x-python",
   "name": "python",
   "nbconvert_exporter": "python",
   "pygments_lexer": "ipython2",
   "version": "2.7.6"
  }
 },
 "nbformat": 4,
 "nbformat_minor": 5
}
