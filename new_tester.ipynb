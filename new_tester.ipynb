{
 "cells": [
  {
   "cell_type": "code",
   "outputs": [],
   "source": [
    "import commons.parse\n",
    "import commons.graph\n",
    "import commons.scores\n",
    "import networkx as nx\n",
    "import warnings\n",
    "import nltk"
   ],
   "metadata": {
    "collapsed": false,
    "ExecuteTime": {
     "end_time": "2024-01-08T11:16:19.525548700Z",
     "start_time": "2024-01-08T11:16:17.562066400Z"
    }
   },
   "id": "2717ad611e93631e",
   "execution_count": 1
  },
  {
   "cell_type": "code",
   "outputs": [],
   "source": [
    "warnings.filterwarnings(\"ignore\")"
   ],
   "metadata": {
    "collapsed": false,
    "ExecuteTime": {
     "end_time": "2024-01-08T11:16:20.561725900Z",
     "start_time": "2024-01-08T11:16:20.556631400Z"
    }
   },
   "id": "b54ef15c59bc8e7b",
   "execution_count": 2
  },
  {
   "cell_type": "code",
   "outputs": [],
   "source": [
    "commons.parse.update_allowed_forbidden_files()"
   ],
   "metadata": {
    "collapsed": false
   },
   "id": "e409e97a0dab3e7c",
   "execution_count": null
  },
  {
   "cell_type": "code",
   "outputs": [],
   "source": [
    "parsed_articles = commons.parse.parse_and_sample(15)\n",
    "\n",
    "print(\"Sampling and parsing complete \\n\")\n",
    "\n",
    "#creating a GraphMaker object that encapsulates the chosen stemmer and stopwords list\n",
    "\n",
    "gm = commons.graph.GraphMaker('resources/longStopwords.txt','SNO')\n",
    "\n",
    "# setting up a proper nx.Graph() as Article's co-occurrence graph \n",
    "\n",
    "for i in range(0, len(parsed_articles)):\n",
    "    print(\"I am now building the graph for article at index \"+ str(i))\n",
    "    parsed_articles[i].graph = gm.buildGraph(parsed_articles[i].abstract)#, parsed_articles[i].filename)\n",
    "\n",
    "\n",
    "#If one wanted to print a graph, given an article:\n",
    "print(parsed_articles[5].filename)\n",
    "print(parsed_articles[5].abstract)\n",
    "print(parsed_articles[5].graph.nodes)\n",
    "commons.graph.printGraph(parsed_articles[5].graph)"
   ],
   "metadata": {
    "collapsed": false
   },
   "id": "7152f129925210c1",
   "execution_count": null
  },
  {
   "cell_type": "code",
   "outputs": [],
   "source": [
    "for a in parsed_articles:\n",
    "\n",
    "    myDictionary = commons.graph.approximateClosenessCentrality(a.graph, 10)\n",
    "    nx.set_node_attributes(a.graph, myDictionary, name = 'apprCC')\n",
    "\n",
    "    nx.set_node_attributes(a.graph, commons.graph.localPageRankApprox(a.graph), name = 'apprPR')\n",
    "\n",
    "    nx.set_node_attributes(a.graph, commons.graph.improvedEstimateLCC(a.graph,  0.7), name='apprLCC')"
   ],
   "metadata": {
    "collapsed": false
   },
   "id": "cd0bdf35324d4cbb",
   "execution_count": null
  },
  {
   "cell_type": "code",
   "outputs": [],
   "source": [
    "print(parsed_articles[4].abstract)"
   ],
   "metadata": {
    "collapsed": false
   },
   "id": "e3a85bce0675d6c3",
   "execution_count": null
  },
  {
   "cell_type": "code",
   "outputs": [],
   "source": [
    "gm = commons.graph.GraphMaker('resources/longStopwords.txt','SNO')\n",
    "\n",
    "ggraph = gm.buildGraph(\"This data article presents the experimental evidences of the effect of TiO2-fluorine doped tin oxide interface annealing and Ni(OH)2 cocatalysts on the photoelectrochemical  structural  morphological and optical properties of Ni(OH)2/CdS/ZnIn2S4/TiO2 heterojunction. The Raman spectroscopy exhibits the sharp features of the rutile phase of TiO2 and in agreement with the X-ray diffraction data. The band gap energy of the 500 °C sample was found to be 3.12 eV  further it was increased to 3.20  3.22 eV for samples annealed at 600 and 700 °C respectively. The decrease in the band gap energy at 500 °C related to the oxygen vacancies and was analysed by photoluminescence spectroscopy analysis. The synthesis  characterization methods and other experimental details of TiO2 based heterostructure are also provided. The presence of CdS and ZnIn2S4 coating on surface of TiO2 electrodes providing a high surface area  extended visible absorption and helps to improve the change separation. This data article contains data related to the research article entitled “Highly efficient and stable 3D Ni(OH)2/CdS/ZnIn2S4/TiO2 heterojunction under solar light: Effect of an improved TiO2/FTO interface and cocatalyst” (Mahadik et al.  2017) [1]\")\n",
    "\n",
    "commons.graph.printGraph(ggraph)"
   ],
   "metadata": {
    "collapsed": false
   },
   "id": "cd2c3038d6aab999",
   "execution_count": null
  },
  {
   "cell_type": "code",
   "outputs": [],
   "source": [
    "myDictionary= nx.pagerank(ggraph,0.4)\n",
    "print(myDictionary)"
   ],
   "metadata": {
    "collapsed": false
   },
   "id": "ca0507c75ba38d70",
   "execution_count": null
  },
  {
   "cell_type": "code",
   "outputs": [
    {
     "data": {
      "text/plain": "'The South African genus Gymnodiscus Less. (Senecioneae: Othonninae) is distinguished from other genera in subtribe Othonninae by its annual habit and lack of pappus in the disc florets. We recognise two species of Gymnodiscus differing in leaf morphology number of involucral bracts and florets shape of the ray florets and cypsela vestiture. A comprehensive taxonomic treatment is presented including descriptions complete nomenclature and typification illustrations and geographical distribution. Gymnodiscus orbicularifolius Sch. Bip. is treated as a synonym of Gymnodiscus capillaris L.f.'"
     },
     "execution_count": 4,
     "metadata": {},
     "output_type": "execute_result"
    }
   ],
   "source": [
    "# pagerank\n",
    "gm = commons.graph.GraphMaker('resources/longStopwords.txt','LAN')\n",
    "articles = commons.parse.parse_and_sample(15, gm)\n",
    "an_article = articles[5]\n",
    "article_graph = gm.buildGraph(an_article.abstract)\n",
    "articles[11].abstract"
   ],
   "metadata": {
    "collapsed": false,
    "ExecuteTime": {
     "end_time": "2024-01-08T11:16:34.492100900Z",
     "start_time": "2024-01-08T11:16:33.338035300Z"
    }
   },
   "id": "ac06a09520388957",
   "execution_count": 4
  },
  {
   "cell_type": "code",
   "outputs": [
    {
     "data": {
      "text/plain": "['new', 'synonym', 'nomenc', 'othonn', 'southern', 'afric', 'taxonom']"
     },
     "execution_count": 5,
     "metadata": {},
     "output_type": "execute_result"
    }
   ],
   "source": [
    "keywords = articles[11].kw\n",
    "keywords"
   ],
   "metadata": {
    "collapsed": false,
    "ExecuteTime": {
     "end_time": "2024-01-08T11:16:36.215681Z",
     "start_time": "2024-01-08T11:16:36.210376100Z"
    }
   },
   "id": "bd454cda908bf982",
   "execution_count": 5
  },
  {
   "cell_type": "code",
   "outputs": [
    {
     "data": {
      "text/plain": "45"
     },
     "execution_count": 6,
     "metadata": {},
     "output_type": "execute_result"
    }
   ],
   "source": [
    "pagerank_res = nx.pagerank(articles[11].graph)\n",
    "sorted_res = sorted(pagerank_res.items(), key=lambda item: item[1], reverse=True)\n",
    "len(sorted_res)"
   ],
   "metadata": {
    "collapsed": false,
    "ExecuteTime": {
     "end_time": "2024-01-08T11:16:39.096870700Z",
     "start_time": "2024-01-08T11:16:39.085140400Z"
    }
   },
   "id": "a1eff470e7a26198",
   "execution_count": 6
  },
  {
   "cell_type": "code",
   "outputs": [
    {
     "data": {
      "text/plain": "['gymnodiscus',\n 'floret',\n 'recognis',\n 'speci',\n 'differ',\n 'leaf',\n 'morpholog',\n 'number',\n 'involucr',\n 'bract']"
     },
     "execution_count": 10,
     "metadata": {},
     "output_type": "execute_result"
    }
   ],
   "source": [
    "prec_res = [el[0] for el in sorted(pagerank_res.items(), key=lambda item: item[1], reverse=True)[:10]]\n",
    "prec_res"
   ],
   "metadata": {
    "collapsed": false,
    "ExecuteTime": {
     "end_time": "2024-01-08T10:00:36.403239800Z",
     "start_time": "2024-01-08T10:00:36.357670500Z"
    }
   },
   "id": "b6bb96c936cb3267",
   "execution_count": 10
  },
  {
   "cell_type": "code",
   "outputs": [
    {
     "name": "stdout",
     "output_type": "stream",
     "text": [
      "P@10: 0.0; R@10: 0.0\n",
      "P@15: 0.0; R@15: 0.0\n",
      "P@20: 0.05; R@20: 0.14285714285714285\n",
      "P@45: 0.06666666666666667; R@45: 0.42857142857142855\n"
     ]
    }
   ],
   "source": [
    "# sort per centrality desc\n",
    "sorted_pagerank = sorted(pagerank_res.items(), key=lambda item: item[1], reverse=True)\n",
    "pagerank_nodes = [node[0] for node in sorted_pagerank]\n",
    "for i in [10, 15, 20, 50, 100]: # ho messo valori a caso\n",
    "    if len(sorted_pagerank) >= i:\n",
    "        p_at_i, r_at_i = commons.scores.precision_recall(keywords, pagerank_nodes[:i])\n",
    "        print(f'P@{i}: {p_at_i}; R@{i}: {r_at_i}')\n",
    "    else:\n",
    "        p_at_len, r_at_len = commons.scores.precision_recall(keywords, pagerank_nodes)\n",
    "        print(f'P@{len(sorted_pagerank)}: {p_at_len}; R@{len(sorted_pagerank)}: {r_at_len}')\n",
    "        break"
   ],
   "metadata": {
    "collapsed": false,
    "ExecuteTime": {
     "end_time": "2024-01-08T11:16:43.997981500Z",
     "start_time": "2024-01-08T11:16:43.946190200Z"
    }
   },
   "id": "32b29edc5d1bab5",
   "execution_count": 7
  },
  {
   "cell_type": "code",
   "outputs": [
    {
     "data": {
      "text/plain": "[('gymnodiscus', 0.054595082022899026),\n ('floret', 0.04275080930792535),\n ('recognis', 0.0249730423188773),\n ('speci', 0.0249730423188773),\n ('differ', 0.0249730423188773),\n ('leaf', 0.0249730423188773),\n ('morpholog', 0.0249730423188773),\n ('number', 0.0249730423188773),\n ('involucr', 0.0249730423188773),\n ('bract', 0.0249730423188773),\n ('shape', 0.0249730423188773),\n ('ray', 0.0249730423188773),\n ('cypsela', 0.0249730423188773),\n ('vestitur', 0.0249730423188773),\n ('comprehens', 0.0221483942414175),\n ('taxonom', 0.0221483942414175),\n ('treatment', 0.0221483942414175),\n ('present', 0.0221483942414175),\n ('includ', 0.0221483942414175),\n ('descript', 0.0221483942414175),\n ('complet', 0.0221483942414175),\n ('nomenclatur', 0.0221483942414175),\n ('typif', 0.0221483942414175),\n ('illustr', 0.0221483942414175),\n ('geograph', 0.0221483942414175),\n ('distribut', 0.0221483942414175),\n ('senecionea', 0.020854409057866653),\n ('othonnina', 0.020854409057866653),\n ('distinguish', 0.020854409057866653),\n ('genera', 0.020854409057866653),\n ('subtrib', 0.020854409057866653),\n ('annual', 0.020854409057866653),\n ('habit', 0.020854409057866653),\n ('lack', 0.020854409057866653),\n ('pappus', 0.020854409057866653),\n ('disc', 0.020854409057866653),\n ('less', 0.014987342816708889),\n ('south', 0.014987342816708887),\n ('african', 0.014987342816708887),\n ('genus', 0.014987342816708887),\n ('treat', 0.014987342816708887),\n ('synonym', 0.014987342816708887),\n ('capillari', 0.014987342816708887),\n ('l', 0.014987342816708887),\n ('sch', 0.005431777697087848),\n ('bip', 0.0033222591362126247)]"
     },
     "execution_count": 27,
     "metadata": {},
     "output_type": "execute_result"
    }
   ],
   "source": [
    "sorted_pagerank"
   ],
   "metadata": {
    "collapsed": false,
    "ExecuteTime": {
     "end_time": "2024-01-08T10:52:17.480005100Z",
     "start_time": "2024-01-08T10:52:17.463129300Z"
    }
   },
   "id": "9be0fd70a2a65fb1",
   "execution_count": 27
  },
  {
   "cell_type": "code",
   "outputs": [
    {
     "data": {
      "text/plain": "['south',\n 'african',\n 'genus',\n 'gymnodiscus',\n 'less',\n 'treat',\n 'synonym',\n 'capillari',\n 'l',\n 'senecionea',\n 'othonnina',\n 'distinguish',\n 'genera',\n 'subtrib',\n 'annual',\n 'habit',\n 'lack',\n 'pappus',\n 'disc',\n 'floret',\n 'recognis',\n 'speci',\n 'differ',\n 'leaf',\n 'morpholog',\n 'number',\n 'involucr',\n 'bract',\n 'shape',\n 'ray',\n 'cypsela',\n 'vestitur',\n 'comprehens',\n 'taxonom',\n 'treatment',\n 'present',\n 'includ',\n 'descript',\n 'complet',\n 'nomenclatur',\n 'typif',\n 'illustr',\n 'geograph',\n 'distribut',\n 'sch',\n 'bip']"
     },
     "execution_count": 21,
     "metadata": {},
     "output_type": "execute_result"
    }
   ],
   "source": [
    "list(articles[11].graph.nodes())"
   ],
   "metadata": {
    "collapsed": false,
    "ExecuteTime": {
     "end_time": "2024-01-08T10:46:23.150794200Z",
     "start_time": "2024-01-08T10:46:23.106062700Z"
    }
   },
   "id": "d28ed2247b2c8566",
   "execution_count": 21
  },
  {
   "cell_type": "code",
   "outputs": [
    {
     "data": {
      "text/plain": "['new', 'synonym', 'nomenclatur', 'othonna', 'southern', 'africa', 'taxonomi']"
     },
     "execution_count": 19,
     "metadata": {},
     "output_type": "execute_result"
    }
   ],
   "source": [
    "articles[11].kw"
   ],
   "metadata": {
    "collapsed": false,
    "ExecuteTime": {
     "end_time": "2024-01-08T10:25:21.934102500Z",
     "start_time": "2024-01-08T10:25:21.930626300Z"
    }
   },
   "id": "afec83e697cac679",
   "execution_count": 19
  },
  {
   "cell_type": "code",
   "outputs": [
    {
     "data": {
      "text/plain": "(0.043478260869565216, 0.2857142857142857)"
     },
     "execution_count": 22,
     "metadata": {},
     "output_type": "execute_result"
    }
   ],
   "source": [
    "commons.scores.precision_recall(articles[11].kw, list(articles[11].graph.nodes()))"
   ],
   "metadata": {
    "collapsed": false,
    "ExecuteTime": {
     "end_time": "2024-01-08T10:46:37.368885100Z",
     "start_time": "2024-01-08T10:46:37.361677Z"
    }
   },
   "id": "5c300b22889c993",
   "execution_count": 22
  },
  {
   "cell_type": "code",
   "outputs": [
    {
     "data": {
      "text/plain": "(nltk.stem.snowball.SnowballStemmer, 'taxonom', 'taxonomi')"
     },
     "execution_count": 29,
     "metadata": {},
     "output_type": "execute_result"
    }
   ],
   "source": [
    "stemmer = gm.stemmer\n",
    "type(stemmer), stemmer.stem('taxonomic'), stemmer.stem('taxonomy')"
   ],
   "metadata": {
    "collapsed": false,
    "ExecuteTime": {
     "end_time": "2024-01-08T11:00:10.011721200Z",
     "start_time": "2024-01-08T11:00:10.008456700Z"
    }
   },
   "id": "a1c948cfd521153c",
   "execution_count": 29
  },
  {
   "cell_type": "code",
   "outputs": [
    {
     "data": {
      "text/plain": "(nltk.stem.porter.PorterStemmer, 'taxonom', 'taxonomi')"
     },
     "execution_count": 30,
     "metadata": {},
     "output_type": "execute_result"
    }
   ],
   "source": [
    "stemmer = commons.graph.GraphMaker('resources/longStopwords.txt','POR').stemmer\n",
    "type(stemmer), stemmer.stem('taxonomic'), stemmer.stem('taxonomy')"
   ],
   "metadata": {
    "collapsed": false,
    "ExecuteTime": {
     "end_time": "2024-01-08T11:01:27.939536300Z",
     "start_time": "2024-01-08T11:01:27.840515100Z"
    }
   },
   "id": "3de95be03d7d0fdb",
   "execution_count": 30
  },
  {
   "cell_type": "code",
   "outputs": [
    {
     "data": {
      "text/plain": "(nltk.stem.lancaster.LancasterStemmer, 'taxonom', 'taxonom')"
     },
     "execution_count": 34,
     "metadata": {},
     "output_type": "execute_result"
    }
   ],
   "source": [
    "stemmer = nltk.stem.LancasterStemmer()\n",
    "type(stemmer), stemmer.stem('taxonomic'), stemmer.stem('taxonomy')"
   ],
   "metadata": {
    "collapsed": false,
    "ExecuteTime": {
     "end_time": "2024-01-08T11:04:40.608241300Z",
     "start_time": "2024-01-08T11:04:40.604137100Z"
    }
   },
   "id": "50c3029a6ef912b8",
   "execution_count": 34
  }
 ],
 "metadata": {
  "kernelspec": {
   "name": "lfn",
   "language": "python",
   "display_name": "lfn"
  },
  "language_info": {
   "codemirror_mode": {
    "name": "ipython",
    "version": 2
   },
   "file_extension": ".py",
   "mimetype": "text/x-python",
   "name": "python",
   "nbconvert_exporter": "python",
   "pygments_lexer": "ipython2",
   "version": "2.7.6"
  }
 },
 "nbformat": 4,
 "nbformat_minor": 5
}
