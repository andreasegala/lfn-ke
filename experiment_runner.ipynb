{
 "cells": [
  {
   "cell_type": "code",
   "execution_count": 1,
   "metadata": {
    "ExecuteTime": {
     "end_time": "2024-01-21T16:16:31.166282900Z",
     "start_time": "2024-01-21T16:16:29.337492300Z"
    }
   },
   "outputs": [],
   "source": [
    "# import the required modules\n",
    "import commons.graph\n",
    "import commons.parse\n",
    "import commons.scores\n",
    "import warnings\n",
    "import pickle\n",
    "\n",
    "warnings.filterwarnings(\"ignore\")"
   ]
  },
  {
   "cell_type": "code",
   "execution_count": 2,
   "metadata": {},
   "outputs": [
    {
     "name": "stderr",
     "output_type": "stream",
     "text": [
      "40091it [21:39, 30.86it/s]                           \n"
     ]
    }
   ],
   "source": [
    "#create list of allowed and forbidden files\n",
    "commons.parse.update_allowed_forbidden_files()"
   ]
  },
  {
   "cell_type": "code",
   "execution_count": 2,
   "metadata": {
    "ExecuteTime": {
     "end_time": "2024-01-21T16:16:36.190004100Z",
     "start_time": "2024-01-21T16:16:36.181007Z"
    }
   },
   "outputs": [],
   "source": [
    "#initialize a GraphMaker to choose a stopword list and a stemmer\n",
    "gm = commons.graph.GraphMaker('resources/longStopwords.txt','LAN')"
   ]
  },
  {
   "cell_type": "code",
   "execution_count": null,
   "metadata": {},
   "outputs": [],
   "source": [
    "# sample and initialize as many articles as desired \n",
    "parsed_articles = commons.parse.parse_and_sample(5000, gm)"
   ]
  },
  {
   "cell_type": "code",
   "execution_count": 4,
   "metadata": {
    "ExecuteTime": {
     "end_time": "2024-01-21T15:06:09.625136100Z",
     "start_time": "2024-01-21T15:06:09.618775Z"
    },
    "collapsed": false
   },
   "outputs": [
    {
     "name": "stdout",
     "output_type": "stream",
     "text": [
      "CPU times: user 1 µs, sys: 1e+03 ns, total: 2 µs\n",
      "Wall time: 4.29 µs\n"
     ]
    }
   ],
   "source": [
    "# compute all centralities and print the results of your run\n",
    "run_name = 'testRun'"
   ]
  },
  {
   "cell_type": "code",
   "execution_count": 4,
   "metadata": {
    "ExecuteTime": {
     "end_time": "2024-01-21T14:50:03.553030500Z",
     "start_time": "2024-01-21T14:45:31.365318600Z"
    }
   },
   "outputs": [
    {
     "name": "stdout",
     "output_type": "stream",
     "text": [
      "CPU times: user 2min 58s, sys: 6.61 s, total: 3min 5s\n",
      "Wall time: 4min 32s\n"
     ]
    }
   ],
   "source": [
    "# Names for centralities : \"PR\"-> pagerank, \"CC\" -> closeness, \"BC\" -> betweenness, \"LCC\" -> local clustering coefficient\n",
    "#boolean approximation: 0-> no approx, 1-> yes, approx\n",
    "commons.scores.centrality_print_scores(parsed_articles, 'BC', 0, run_name)\n",
    "commons.scores.centrality_print_scores(parsed_articles, 'BC', 1, run_name)"
   ]
  },
  {
   "cell_type": "code",
   "execution_count": 6,
   "metadata": {
    "ExecuteTime": {
     "end_time": "2024-01-21T15:22:49.007696900Z",
     "start_time": "2024-01-21T15:12:49.827429Z"
    },
    "collapsed": false
   },
   "outputs": [
    {
     "name": "stderr",
     "output_type": "stream",
     "text": [
      "100%|██████████| 4994/4994 [03:15<00:00, 25.52it/s]\n",
      "100%|██████████| 4994/4994 [03:21<00:00, 24.79it/s]\n"
     ]
    }
   ],
   "source": [
    "commons.scores.centrality_print_scores(parsed_articles, 'PR', 0, run_name)\n",
    "commons.scores.centrality_print_scores(parsed_articles, 'PR', 1, run_name)"
   ]
  },
  {
   "cell_type": "code",
   "execution_count": 7,
   "metadata": {
    "ExecuteTime": {
     "end_time": "2024-01-21T15:39:32.078401200Z",
     "start_time": "2024-01-21T15:24:00.376988600Z"
    },
    "collapsed": false
   },
   "outputs": [
    {
     "name": "stderr",
     "output_type": "stream",
     "text": [
      "100%|██████████| 4994/4994 [03:28<00:00, 23.93it/s]\n",
      "100%|██████████| 4994/4994 [04:14<00:00, 19.64it/s]\n"
     ]
    }
   ],
   "source": [
    "commons.scores.centrality_print_scores(parsed_articles, 'LCC', 0, run_name)\n",
    "commons.scores.centrality_print_scores(parsed_articles, 'LCC', 1, run_name)"
   ]
  },
  {
   "cell_type": "code",
   "execution_count": null,
   "metadata": {
    "collapsed": false
   },
   "outputs": [],
   "source": [
    "commons.scores.centrality_print_scores(parsed_articles, 'CC', 0, run_name)\n",
    "commons.scores.centrality_print_scores(parsed_articles, 'CC', 1, run_name)"
   ]
  },
  {
   "cell_type": "code",
   "execution_count": 9,
   "metadata": {},
   "outputs": [
    {
     "data": {
      "image/png": "[encoded data removed]",
      "text/plain": [
       "<Figure size 432x288 with 1 Axes>"
      ]
     },
     "metadata": {
      "needs_background": "light"
     },
     "output_type": "display_data"
    }
   ],
   "source": [
    "#compute average scores, variances etc...\n",
    "commons.scores.significant_differences(['PR','CC','BC','LCC'],2,'R@20','half_articles')"
   ]
  }
 ],
 "metadata": {
  "kernelspec": {
   "display_name": "base",
   "language": "python",
   "name": "python3"
  },
  "language_info": {
   "codemirror_mode": {
    "name": "ipython",
    "version": 3
   },
   "file_extension": ".py",
   "mimetype": "text/x-python",
   "name": "python",
   "nbconvert_exporter": "python",
   "pygments_lexer": "ipython3",
   "version": "3.9.12"
  }
 },
 "nbformat": 4,
 "nbformat_minor": 2
}
