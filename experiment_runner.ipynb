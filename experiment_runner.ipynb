{
 "cells": [
  {
   "cell_type": "markdown",
   "source": [
    "### Required libraries"
   ],
   "metadata": {
    "collapsed": false
   }
  },
  {
   "cell_type": "code",
   "execution_count": null,
   "metadata": {},
   "outputs": [],
   "source": [
    "import commons.graph\n",
    "import commons.parse\n",
    "import commons.scores\n",
    "import warnings\n",
    "warnings.filterwarnings(\"ignore\")"
   ]
  },
  {
   "cell_type": "markdown",
   "source": [
    "## Preliminary steps\n",
    "#### Create a GraphMaker\n",
    "Specify the stopword list and the desired stemmer:\n",
    "- ```POR```: Porter Stemmer\n",
    "- ```SNO```: Snowball Stemmer (English)\n",
    "- ```LAN```: Lancaster Stemmer"
   ],
   "metadata": {
    "collapsed": false
   }
  },
  {
   "cell_type": "code",
   "execution_count": null,
   "metadata": {},
   "outputs": [],
   "source": [
    "gm = commons.graph.GraphMaker('resources/longStopwords.txt', 'LAN')"
   ]
  },
  {
   "cell_type": "markdown",
   "source": [
    "#### Create (or update) the list of allowed articles\n",
    "Set the minimum number of nodes for a graph to be considered and run the function.\n",
    "For the current dataset the file is already made for you, **no need to run it again**.\n",
    "This function is meant to be executed only the first time or if the dataset changes, e.g. some articles are added or removed."
   ],
   "metadata": {
    "collapsed": false
   }
  },
  {
   "cell_type": "code",
   "execution_count": null,
   "metadata": {},
   "outputs": [],
   "source": [
    "min_nodes = 5\n",
    "commons.parse.update_allowed_forbidden_files(gm, min_nodes)"
   ]
  },
  {
   "cell_type": "markdown",
   "source": [
    "### Sample the articles\n",
    "There are 35403 allowed articles available for sampling."
   ],
   "metadata": {
    "collapsed": false
   }
  },
  {
   "cell_type": "code",
   "execution_count": null,
   "metadata": {},
   "outputs": [],
   "source": [
    "sample_size = 5000\n",
    "parsed_articles = commons.parse.parse_and_sample(sample_size, gm)"
   ]
  },
  {
   "cell_type": "markdown",
   "source": [
    "#### Set the run name\n",
    "You will find the results in ```experiments/run_name/```."
   ],
   "metadata": {
    "collapsed": false
   }
  },
  {
   "cell_type": "code",
   "execution_count": null,
   "metadata": {
    "collapsed": false
   },
   "outputs": [],
   "source": [
    "run_name = 'myRun'"
   ]
  },
  {
   "cell_type": "markdown",
   "source": [
    "## Compute the centralities!\n",
    "The names for the centralities are:\n",
    "- ```PR```: PageRank centrality\n",
    "- ```CC```: Closeness Centrality\n",
    "- ```BC```: Betwenness centrality\n",
    "- ```LCC```: Local Clustering Coefficient\n",
    "\n",
    "For the approximation there is an integer flag:\n",
    "- ```0```: exact centrality\n",
    "- ```1```: approximated centrality"
   ],
   "metadata": {
    "collapsed": false
   }
  },
  {
   "cell_type": "code",
   "execution_count": null,
   "metadata": {
    "collapsed": false
   },
   "outputs": [],
   "source": [
    "commons.scores.centrality_print_scores(parsed_articles, 'BC', 0, run_name)"
   ]
  },
  {
   "cell_type": "code",
   "outputs": [],
   "source": [
    "commons.scores.centrality_print_scores(parsed_articles, 'BC', 1, run_name)"
   ],
   "metadata": {},
   "execution_count": null
  },
  {
   "cell_type": "code",
   "execution_count": null,
   "metadata": {
    "collapsed": false
   },
   "outputs": [],
   "source": [
    "commons.scores.centrality_print_scores(parsed_articles, 'PR', 0, run_name)"
   ]
  },
  {
   "cell_type": "code",
   "outputs": [],
   "source": [
    "commons.scores.centrality_print_scores(parsed_articles, 'PR', 1, run_name)"
   ],
   "metadata": {
    "collapsed": false
   },
   "execution_count": null
  },
  {
   "cell_type": "code",
   "execution_count": null,
   "metadata": {
    "collapsed": false
   },
   "outputs": [],
   "source": [
    "commons.scores.centrality_print_scores(parsed_articles, 'LCC', 0, run_name)"
   ]
  },
  {
   "cell_type": "code",
   "outputs": [],
   "source": [
    "commons.scores.centrality_print_scores(parsed_articles, 'LCC', 1, run_name)"
   ],
   "metadata": {
    "collapsed": false
   },
   "execution_count": null
  },
  {
   "cell_type": "code",
   "execution_count": null,
   "metadata": {
    "collapsed": false
   },
   "outputs": [],
   "source": [
    "commons.scores.centrality_print_scores(parsed_articles, 'CC', 0, run_name)"
   ]
  },
  {
   "cell_type": "code",
   "outputs": [],
   "source": [
    "commons.scores.centrality_print_scores(parsed_articles, 'CC', 1, run_name)"
   ],
   "metadata": {
    "collapsed": false
   },
   "execution_count": null
  },
  {
   "cell_type": "markdown",
   "source": [
    "## Look at the results!\n",
    "TODO - non so se il codice sia a posto così ?"
   ],
   "metadata": {
    "collapsed": false
   }
  },
  {
   "cell_type": "code",
   "execution_count": null,
   "metadata": {},
   "outputs": [],
   "source": [
    "#compute average scores, variances etc...\n",
    "commons.scores.significant_differences(['PR','CC','BC','LCC'], 2, 'R@20', 'half_articles')\n",
    "display(commons.scores.average_metric('P@20', 'half_articles'))"
   ]
  }
 ],
 "metadata": {
  "kernelspec": {
   "name": "lfn",
   "language": "python",
   "display_name": "lfn"
  },
  "language_info": {
   "codemirror_mode": {
    "name": "ipython",
    "version": 3
   },
   "file_extension": ".py",
   "mimetype": "text/x-python",
   "name": "python",
   "nbconvert_exporter": "python",
   "pygments_lexer": "ipython3",
   "version": "3.12.1"
  }
 },
 "nbformat": 4,
 "nbformat_minor": 2
}
