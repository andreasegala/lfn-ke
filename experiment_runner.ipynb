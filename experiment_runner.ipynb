{
 "cells": [
  {
   "cell_type": "code",
   "execution_count": 1,
   "metadata": {},
   "outputs": [],
   "source": [
    "# import the required modules\n",
    "import commons.graph\n",
    "import commons.parse\n",
    "import commons.scores\n",
    "import warnings\n",
    "\n",
    "warnings.filterwarnings(\"ignore\")"
   ]
  },
  {
   "cell_type": "code",
   "execution_count": 2,
   "metadata": {},
   "outputs": [
    {
     "name": "stderr",
     "output_type": "stream",
     "text": [
      "40091it [21:39, 30.86it/s]                           \n"
     ]
    }
   ],
   "source": [
    "#create list of allowed and forbidden files\n",
    "commons.parse.update_allowed_forbidden_files()"
   ]
  },
  {
   "cell_type": "code",
   "execution_count": 2,
   "metadata": {},
   "outputs": [],
   "source": [
    "\n",
    "#initialize a GraphMaker to choose a stopword list and a stemmer\n",
    "gm = commons.graph.GraphMaker('resources/longStopwords.txt',\"LAN\")\n"
   ]
  },
  {
   "cell_type": "code",
   "execution_count": 3,
   "metadata": {},
   "outputs": [],
   "source": [
    "# sample and initialize as many articles as desired \n",
    "parsed_articles = commons.parse.parse_and_sample(5,gm)\n"
   ]
  },
  {
   "cell_type": "code",
   "execution_count": 4,
   "metadata": {},
   "outputs": [],
   "source": [
    "# compute all centralities and print the results of your run\n",
    "\n",
    "run_name = 'testRun'\n",
    "\n",
    "# Names for centralities : \"PR\"-> pagerank, \"CC\" -> closeness, \"BC\" -> betweenness, \"LCC\" -> local clustering coefficient\n",
    "#boolean approximation: 0-> no approx, 1-> yes, approx\n",
    "commons.scores.centrality_print_scores(parsed_articles, 'BC', 0, run_name)\n"
   ]
  },
  {
   "cell_type": "code",
   "execution_count": null,
   "metadata": {},
   "outputs": [],
   "source": [
    "#compute average scores, variances etc..."
   ]
  }
 ],
 "metadata": {
  "kernelspec": {
   "display_name": "base",
   "language": "python",
   "name": "python3"
  },
  "language_info": {
   "codemirror_mode": {
    "name": "ipython",
    "version": 3
   },
   "file_extension": ".py",
   "mimetype": "text/x-python",
   "name": "python",
   "nbconvert_exporter": "python",
   "pygments_lexer": "ipython3",
   "version": "3.9.12"
  }
 },
 "nbformat": 4,
 "nbformat_minor": 2
}
