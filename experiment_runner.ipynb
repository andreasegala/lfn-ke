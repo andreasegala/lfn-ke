{
 "cells": [
  {
   "cell_type": "code",
   "execution_count": 1,
   "metadata": {
    "ExecuteTime": {
     "end_time": "2024-01-21T16:16:31.166282900Z",
     "start_time": "2024-01-21T16:16:29.337492300Z"
    }
   },
   "outputs": [],
   "source": [
    "# import the required modules\n",
    "import commons.graph\n",
    "import commons.parse\n",
    "import commons.scores\n",
    "import warnings\n",
    "#import pickle\n",
    "\n",
    "warnings.filterwarnings(\"ignore\")"
   ]
  },
  {
   "cell_type": "code",
   "execution_count": 2,
   "metadata": {},
   "outputs": [
    {
     "name": "stderr",
     "output_type": "stream",
     "text": [
      "40091it [21:39, 30.86it/s]                           \n"
     ]
    }
   ],
   "source": [
    "#create list of allowed and forbidden files\n",
    "commons.parse.update_allowed_forbidden_files()"
   ]
  },
  {
   "cell_type": "code",
   "execution_count": 2,
   "metadata": {
    "ExecuteTime": {
     "end_time": "2024-01-21T16:16:36.190004100Z",
     "start_time": "2024-01-21T16:16:36.181007Z"
    }
   },
   "outputs": [],
   "source": [
    "#initialize a GraphMaker to choose a stopword list and a stemmer\n",
    "gm = commons.graph.GraphMaker('resources/longStopwords.txt','LAN')"
   ]
  },
  {
   "cell_type": "code",
   "execution_count": null,
   "metadata": {},
   "outputs": [],
   "source": [
    "# sample and initialize as many articles as desired \n",
    "parsed_articles = commons.parse.parse_and_sample(5000, gm)"
   ]
  },
  {
   "cell_type": "code",
   "execution_count": 4,
   "metadata": {
    "ExecuteTime": {
     "end_time": "2024-01-21T15:06:09.625136100Z",
     "start_time": "2024-01-21T15:06:09.618775Z"
    },
    "collapsed": false
   },
   "outputs": [
    {
     "name": "stdout",
     "output_type": "stream",
     "text": [
      "CPU times: user 1 µs, sys: 1e+03 ns, total: 2 µs\n",
      "Wall time: 4.29 µs\n"
     ]
    }
   ],
   "source": [
    "# compute all centralities and print the results of your run\n",
    "run_name = 'testRun'"
   ]
  },
  {
   "cell_type": "code",
   "execution_count": 4,
   "metadata": {
    "ExecuteTime": {
     "end_time": "2024-01-21T14:50:03.553030500Z",
     "start_time": "2024-01-21T14:45:31.365318600Z"
    }
   },
   "outputs": [
    {
     "name": "stdout",
     "output_type": "stream",
     "text": [
      "CPU times: user 2min 58s, sys: 6.61 s, total: 3min 5s\n",
      "Wall time: 4min 32s\n"
     ]
    }
   ],
   "source": [
    "# Names for centralities : \"PR\"-> pagerank, \"CC\" -> closeness, \"BC\" -> betweenness, \"LCC\" -> local clustering coefficient\n",
    "#boolean approximation: 0-> no approx, 1-> yes, approx\n",
    "commons.scores.centrality_print_scores(parsed_articles, 'BC', 0, run_name)\n",
    "commons.scores.centrality_print_scores(parsed_articles, 'BC', 1, run_name)"
   ]
  },
  {
   "cell_type": "code",
   "execution_count": 6,
   "metadata": {
    "ExecuteTime": {
     "end_time": "2024-01-21T15:22:49.007696900Z",
     "start_time": "2024-01-21T15:12:49.827429Z"
    },
    "collapsed": false
   },
   "outputs": [
    {
     "name": "stderr",
     "output_type": "stream",
     "text": [
      "100%|██████████| 4994/4994 [03:15<00:00, 25.52it/s]\n",
      "100%|██████████| 4994/4994 [03:21<00:00, 24.79it/s]\n"
     ]
    }
   ],
   "source": [
    "commons.scores.centrality_print_scores(parsed_articles, 'PR', 0, run_name)\n",
    "commons.scores.centrality_print_scores(parsed_articles, 'PR', 1, run_name)"
   ]
  },
  {
   "cell_type": "code",
   "execution_count": 7,
   "metadata": {
    "ExecuteTime": {
     "end_time": "2024-01-21T15:39:32.078401200Z",
     "start_time": "2024-01-21T15:24:00.376988600Z"
    },
    "collapsed": false
   },
   "outputs": [
    {
     "name": "stderr",
     "output_type": "stream",
     "text": [
      "100%|██████████| 4994/4994 [03:28<00:00, 23.93it/s]\n",
      "100%|██████████| 4994/4994 [04:14<00:00, 19.64it/s]\n"
     ]
    }
   ],
   "source": [
    "commons.scores.centrality_print_scores(parsed_articles, 'LCC', 0, run_name)\n",
    "commons.scores.centrality_print_scores(parsed_articles, 'LCC', 1, run_name)"
   ]
  },
  {
   "cell_type": "code",
   "execution_count": null,
   "metadata": {
    "collapsed": false
   },
   "outputs": [],
   "source": [
    "commons.scores.centrality_print_scores(parsed_articles, 'CC', 0, run_name)\n",
    "commons.scores.centrality_print_scores(parsed_articles, 'CC', 1, run_name)"
   ]
  },
  {
   "cell_type": "code",
   "execution_count": 3,
   "metadata": {},
   "outputs": [
    {
     "name": "stdout",
     "output_type": "stream",
     "text": [
      "Tukey's HSD Pairwise Group Comparisons (95.0% Confidence Interval)\n",
      "Comparison  Statistic  p-value  Lower CI  Upper CI\n",
      " (0 - 1)     -0.011     0.000    -0.016    -0.006\n",
      " (0 - 2)     -0.012     0.000    -0.017    -0.007\n",
      " (0 - 3)     -0.028     0.000    -0.033    -0.023\n",
      " (0 - 4)      0.009     0.000     0.004     0.014\n",
      " (0 - 5)     -0.007     0.001    -0.012    -0.002\n",
      " (0 - 6)     -0.355     0.000    -0.360    -0.350\n",
      " (0 - 7)     -0.281     0.000    -0.286    -0.276\n",
      " (1 - 0)      0.011     0.000     0.006     0.016\n",
      " (1 - 2)     -0.001     0.999    -0.006     0.004\n",
      " (1 - 3)     -0.017     0.000    -0.022    -0.012\n",
      " (1 - 4)      0.020     0.000     0.015     0.025\n",
      " (1 - 5)      0.004     0.171    -0.001     0.009\n",
      " (1 - 6)     -0.344     0.000    -0.349    -0.339\n",
      " (1 - 7)     -0.269     0.000    -0.275    -0.264\n",
      " (2 - 0)      0.012     0.000     0.007     0.017\n",
      " (2 - 1)      0.001     0.999    -0.004     0.006\n",
      " (2 - 3)     -0.016     0.000    -0.021    -0.011\n",
      " (2 - 4)      0.021     0.000     0.016     0.026\n",
      " (2 - 5)      0.005     0.032     0.000     0.010\n",
      " (2 - 6)     -0.343     0.000    -0.348    -0.338\n",
      " (2 - 7)     -0.268     0.000    -0.274    -0.263\n",
      " (3 - 0)      0.028     0.000     0.023     0.033\n",
      " (3 - 1)      0.017     0.000     0.012     0.022\n",
      " (3 - 2)      0.016     0.000     0.011     0.021\n",
      " (3 - 4)      0.037     0.000     0.032     0.042\n",
      " (3 - 5)      0.021     0.000     0.016     0.026\n",
      " (3 - 6)     -0.327     0.000    -0.332    -0.322\n",
      " (3 - 7)     -0.253     0.000    -0.258    -0.248\n",
      " (4 - 0)     -0.009     0.000    -0.014    -0.004\n",
      " (4 - 1)     -0.020     0.000    -0.025    -0.015\n",
      " (4 - 2)     -0.021     0.000    -0.026    -0.016\n",
      " (4 - 3)     -0.037     0.000    -0.042    -0.032\n",
      " (4 - 5)     -0.016     0.000    -0.021    -0.011\n",
      " (4 - 6)     -0.364     0.000    -0.369    -0.359\n",
      " (4 - 7)     -0.290     0.000    -0.295    -0.285\n",
      " (5 - 0)      0.007     0.001     0.002     0.012\n",
      " (5 - 1)     -0.004     0.171    -0.009     0.001\n",
      " (5 - 2)     -0.005     0.032    -0.010    -0.000\n",
      " (5 - 3)     -0.021     0.000    -0.026    -0.016\n",
      " (5 - 4)      0.016     0.000     0.011     0.021\n",
      " (5 - 6)     -0.348     0.000    -0.353    -0.343\n",
      " (5 - 7)     -0.274     0.000    -0.279    -0.269\n",
      " (6 - 0)      0.355     0.000     0.350     0.360\n",
      " (6 - 1)      0.344     0.000     0.339     0.349\n",
      " (6 - 2)      0.343     0.000     0.338     0.348\n",
      " (6 - 3)      0.327     0.000     0.322     0.332\n",
      " (6 - 4)      0.364     0.000     0.359     0.369\n",
      " (6 - 5)      0.348     0.000     0.343     0.353\n",
      " (6 - 7)      0.074     0.000     0.069     0.079\n",
      " (7 - 0)      0.281     0.000     0.276     0.286\n",
      " (7 - 1)      0.269     0.000     0.264     0.275\n",
      " (7 - 2)      0.268     0.000     0.263     0.274\n",
      " (7 - 3)      0.253     0.000     0.248     0.258\n",
      " (7 - 4)      0.290     0.000     0.285     0.295\n",
      " (7 - 5)      0.274     0.000     0.269     0.279\n",
      " (7 - 6)     -0.074     0.000    -0.079    -0.069\n",
      "\n"
     ]
    },
    {
     "data": {
      "text/html": [
       "<div>\n",
       "<style scoped>\n",
       "    .dataframe tbody tr th:only-of-type {\n",
       "        vertical-align: middle;\n",
       "    }\n",
       "\n",
       "    .dataframe tbody tr th {\n",
       "        vertical-align: top;\n",
       "    }\n",
       "\n",
       "    .dataframe thead th {\n",
       "        text-align: right;\n",
       "    }\n",
       "</style>\n",
       "<table border=\"1\" class=\"dataframe\">\n",
       "  <thead>\n",
       "    <tr style=\"text-align: right;\">\n",
       "      <th></th>\n",
       "      <th>PR</th>\n",
       "      <th>approxPR</th>\n",
       "      <th>CC</th>\n",
       "      <th>approxCC</th>\n",
       "      <th>BC</th>\n",
       "      <th>approxBC</th>\n",
       "      <th>LCC</th>\n",
       "      <th>approxLCC</th>\n",
       "    </tr>\n",
       "  </thead>\n",
       "  <tbody>\n",
       "    <tr>\n",
       "      <th>0</th>\n",
       "      <td>0.04929</td>\n",
       "      <td>0.054874</td>\n",
       "      <td>0.055369</td>\n",
       "      <td>0.062235</td>\n",
       "      <td>0.045697</td>\n",
       "      <td>0.053236</td>\n",
       "      <td>0.208275</td>\n",
       "      <td>0.174056</td>\n",
       "    </tr>\n",
       "  </tbody>\n",
       "</table>\n",
       "</div>"
      ],
      "text/plain": [
       "        PR  approxPR        CC  approxCC        BC  approxBC       LCC  \\\n",
       "0  0.04929  0.054874  0.055369  0.062235  0.045697  0.053236  0.208275   \n",
       "\n",
       "   approxLCC  \n",
       "0   0.174056  "
      ]
     },
     "metadata": {},
     "output_type": "display_data"
    },
    {
     "data": {
      "image/png": "[encoded data removed]",
      "text/plain": [
       "<Figure size 640x480 with 1 Axes>"
      ]
     },
     "metadata": {},
     "output_type": "display_data"
    }
   ],
   "source": [
    "#compute average scores, variances etc...\n",
    "commons.scores.significant_differences(['PR','CC','BC','LCC'],2,'R@20','half_articles')\n",
    "display(commons.scores.average_metric('P@20', 'half_articles'))\n"
   ]
  }
 ],
 "metadata": {
  "kernelspec": {
   "display_name": "base",
   "language": "python",
   "name": "python3"
  },
  "language_info": {
   "codemirror_mode": {
    "name": "ipython",
    "version": 3
   },
   "file_extension": ".py",
   "mimetype": "text/x-python",
   "name": "python",
   "nbconvert_exporter": "python",
   "pygments_lexer": "ipython3",
   "version": "3.12.1"
  }
 },
 "nbformat": 4,
 "nbformat_minor": 2
}
